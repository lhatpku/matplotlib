{
 "cells": [
  {
   "cell_type": "code",
   "execution_count": 1,
   "metadata": {},
   "outputs": [],
   "source": [
    "%matplotlib inline\n",
    "\n",
    "import matplotlib.pyplot as plt\n",
    "import numpy as np\n",
    "\n",
    "import ipywidgets\n",
    "\n",
    "from IPython.display import set_matplotlib_formats\n",
    "set_matplotlib_formats('retina')"
   ]
  },
  {
   "cell_type": "markdown",
   "metadata": {},
   "source": [
    "## Review"
   ]
  },
  {
   "cell_type": "code",
   "execution_count": 2,
   "metadata": {},
   "outputs": [],
   "source": [
    "def fv(p, i, n, t):\n",
    "    \"\"\"Returns the future value of an investment\n",
    "    \n",
    "    Arguments:\n",
    "    p -- Initial investment (i.e., present value)\n",
    "    i -- Interest rate\n",
    "    n -- Number of times investment is compounded per year\n",
    "    t -- Total time (in years) of the investment\n",
    "    \"\"\"\n",
    "    return p * (1 + float(i)/n)**(n * t)\n",
    "\n",
    "def plot_fv(p, i, n, t):\n",
    "    \"\"\"Plots the value of an investment over time\n",
    "    \"\"\"\n",
    "    # We add 1 to the range of years, so we include the initial\n",
    "    # investment in our list as well.\n",
    "    fvs = [fv(p, i, n, year) for year in range(t+1)]\n",
    "    plt.plot(fvs)"
   ]
  },
  {
   "cell_type": "markdown",
   "metadata": {},
   "source": [
    "## Sensible Limits"
   ]
  },
  {
   "cell_type": "code",
   "execution_count": 3,
   "metadata": {},
   "outputs": [
    {
     "data": {
      "application/vnd.jupyter.widget-view+json": {
       "model_id": "257d4c300f2545a3ad5e551c45eeef4a",
       "version_major": 2,
       "version_minor": 0
      },
      "text/plain": [
       "interactive(children=(IntSlider(value=50000, description='p', max=100000, step=1000), FloatSlider(value=0.105,…"
      ]
     },
     "metadata": {},
     "output_type": "display_data"
    }
   ],
   "source": [
    "ipywidgets.interact(plot_fv, p=(0, 100000, 1000), i=(0.01, 0.2, 0.001), n=(1, 12), t=(1, 50));"
   ]
  },
  {
   "cell_type": "markdown",
   "metadata": {},
   "source": [
    "## A Little Finer Control "
   ]
  },
  {
   "cell_type": "code",
   "execution_count": 4,
   "metadata": {},
   "outputs": [],
   "source": [
    "present_value = ipywidgets.IntSlider(min=0, max=100000, step=1000, value=10000, \n",
    "                                     description='Present Value', continuous_update=False)\n",
    "interest_rate = ipywidgets.FloatSlider(min=0.01, max=0.2, step=0.001, value=0.047, \n",
    "                                       description='Interest Rate', continuous_update=False)\n",
    "compounds_per_year = ipywidgets.IntSlider(min=1, max=12, value=1, \n",
    "                                          description='Compounds/Year', continuous_update=False)\n",
    "years = ipywidgets.IntSlider(min=1, max=50, value=30, \n",
    "                             description='Years to Retirement', continuous_update=False)"
   ]
  },
  {
   "cell_type": "code",
   "execution_count": 5,
   "metadata": {},
   "outputs": [
    {
     "data": {
      "application/vnd.jupyter.widget-view+json": {
       "model_id": "a29e72f8e83044f89dd92c2471695fe8",
       "version_major": 2,
       "version_minor": 0
      },
      "text/plain": [
       "interactive(children=(IntSlider(value=10000, continuous_update=False, description='Present Value', max=100000,…"
      ]
     },
     "metadata": {},
     "output_type": "display_data"
    }
   ],
   "source": [
    "ipywidgets.interact(plot_fv, p=present_value, i=interest_rate, n=compounds_per_year, t=years);"
   ]
  },
  {
   "cell_type": "markdown",
   "metadata": {},
   "source": [
    "## Making Comparisons "
   ]
  },
  {
   "cell_type": "code",
   "execution_count": 6,
   "metadata": {},
   "outputs": [
    {
     "data": {
      "text/plain": [
       "<Figure size 432x288 with 0 Axes>"
      ]
     },
     "metadata": {},
     "output_type": "display_data"
    }
   ],
   "source": [
    "from IPython.display import display\n",
    "\n",
    "# Create a figure that we can update instead of creating a new figure \n",
    "# every time the plot_fv function is called.\n",
    "fig = plt.figure()\n",
    "\n",
    "def plot_fv(p, i, n, t):\n",
    "    \"\"\"Plots the value of an investment over time\n",
    "    \"\"\"\n",
    "    # We add 1 to the range of years, so we include the initial\n",
    "    # investment in our list as well.\n",
    "    fvs = [fv(p, i, n, year) for year in range(t+1)]\n",
    "\n",
    "    ax = fig.gca()\n",
    "    ax.plot(fvs, label=\"p=%d, i=%2f, n=%d, t=%d\" % (p, i, n, t))\n",
    "    # Add a legend and make sure that it's outside of the plot\n",
    "    ax.legend(loc='center left', bbox_to_anchor=(1.0, 0.5))\n",
    "    display(fig)"
   ]
  },
  {
   "cell_type": "code",
   "execution_count": 7,
   "metadata": {},
   "outputs": [],
   "source": [
    "present_value = ipywidgets.IntSlider(min=0, max=100000, step=1000, value=10000, \n",
    "                                     description='Present Value:', continuous_update=False)\n",
    "interest_rate = ipywidgets.FloatSlider(min=0.01, max=0.2, step=0.001, value=0.047, \n",
    "                                       description='Interest Rate:', continuous_update=False)\n",
    "compounds_per_year = ipywidgets.IntSlider(min=1, max=12, value=1, \n",
    "                                          description='Compounds/Year:', continuous_update=False)\n",
    "w = ipywidgets.interactive(plot_fv, p=present_value, i=interest_rate, n=compounds_per_year, t=ipywidgets.fixed(30))"
   ]
  },
  {
   "cell_type": "code",
   "execution_count": 8,
   "metadata": {},
   "outputs": [],
   "source": [
    "from IPython.display import clear_output\n",
    "\n",
    "button = ipywidgets.Button(description=\"Reset\")\n",
    "\n",
    "# This function will clear the global figure object, clear the output\n",
    "# of the current cell, and display a new plot with the current set \n",
    "# values from the interface.\n",
    "def clf(*args, **kwargs):\n",
    "    fig.clf()\n",
    "    # If we don't call clear_output(), we end up with 2 plots\n",
    "    clear_output()\n",
    "    plot_fv(**w.kwargs)\n",
    "    \n",
    "button.on_click(clf)\n",
    "w.children += (button,)"
   ]
  },
  {
   "cell_type": "code",
   "execution_count": 9,
   "metadata": {},
   "outputs": [
    {
     "data": {
      "application/vnd.jupyter.widget-view+json": {
       "model_id": "4a37055912ff4a6d93a9c74a7d6fbfb5",
       "version_major": 2,
       "version_minor": 0
      },
      "text/plain": [
       "interactive(children=(IntSlider(value=10000, continuous_update=False, description='Present Value:', max=100000…"
      ]
     },
     "metadata": {},
     "output_type": "display_data"
    }
   ],
   "source": [
    "display(w)"
   ]
  },
  {
   "cell_type": "markdown",
   "metadata": {},
   "source": [
    "## Cleaning Up"
   ]
  },
  {
   "cell_type": "code",
   "execution_count": 10,
   "metadata": {},
   "outputs": [
    {
     "data": {
      "text/html": [
       "<style>\n",
       ".widget-hbox .widget-label { min-width: 20ex }  /* Line up all of the sliders */  \n",
       ".widget-area .btn { margin: 5px 0 0 22ex }      /* Line the button up with the sliders */\n",
       "</style>"
      ],
      "text/plain": [
       "<IPython.core.display.HTML object>"
      ]
     },
     "metadata": {},
     "output_type": "display_data"
    }
   ],
   "source": [
    "%%html\n",
    "<style>\n",
    ".widget-hbox .widget-label { min-width: 20ex }  /* Line up all of the sliders */  \n",
    ".widget-area .btn { margin: 5px 0 0 22ex }      /* Line the button up with the sliders */\n",
    "</style>"
   ]
  },
  {
   "cell_type": "code",
   "execution_count": null,
   "metadata": {},
   "outputs": [],
   "source": []
  }
 ],
 "metadata": {
  "kernelspec": {
   "display_name": "Python 3",
   "language": "python",
   "name": "python3"
  },
  "language_info": {
   "codemirror_mode": {
    "name": "ipython",
    "version": 3
   },
   "file_extension": ".py",
   "mimetype": "text/x-python",
   "name": "python",
   "nbconvert_exporter": "python",
   "pygments_lexer": "ipython3",
   "version": "3.6.6"
  }
 },
 "nbformat": 4,
 "nbformat_minor": 1
}
